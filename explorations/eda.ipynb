{
 "cells": [
  {
   "cell_type": "markdown",
   "id": "c2fe42d7",
   "metadata": {},
   "source": [
    "# TaxiPred — EDA"
   ]
  },
  {
   "cell_type": "code",
   "execution_count": null,
   "id": "538e6bdd",
   "metadata": {},
   "outputs": [],
   "source": [
    "import pandas as pd\n",
    "import numpy as np\n",
    "import matplotlib.pyplot as plt\n",
    "\n",
    "from taxipred.utils.constants import TAXI_CSV_PATH, TARGET_COL\n",
    "\n",
    "pd.set_option('display.max_columns', 100)\n",
    "print('CSV path:', TAXI_CSV_PATH)\n",
    "print('Target column:', TARGET_COL)"
   ]
  },
  {
   "cell_type": "code",
   "execution_count": null,
   "id": "fd369c2c",
   "metadata": {},
   "outputs": [],
   "source": [
    "df = pd.read_csv(TAXI_CSV_PATH)\n",
    "print('Shape:', df.shape)\n",
    "df.head()"
   ]
  },
  {
   "cell_type": "code",
   "execution_count": null,
   "id": "3e928e83",
   "metadata": {},
   "outputs": [],
   "source": [
    "print('dtypes:')\n",
    "print(df.dtypes)\n",
    "print('\\n.info():')\n",
    "print(df.info())\n",
    "df.describe(include=[np.number]).T"
   ]
  },
  {
   "cell_type": "code",
   "execution_count": null,
   "id": "669eee75",
   "metadata": {},
   "outputs": [],
   "source": [
    "nulls = df.isna().mean().sort_values(ascending=False)\n",
    "nulls.to_frame('null_fraction')"
   ]
  },
  {
   "cell_type": "code",
   "execution_count": null,
   "id": "9ded94e2",
   "metadata": {},
   "outputs": [],
   "source": [
    "if TARGET_COL in df.columns:\n",
    "    ax = df[TARGET_COL].dropna().plot(kind='hist', bins=40, title=f'Histogram: {TARGET_COL}')\n",
    "    plt.xlabel(TARGET_COL)\n",
    "    plt.ylabel('count')\n",
    "    plt.show()\n",
    "else:\n",
    "    print(f\"Target column '{TARGET_COL}' not found.\")"
   ]
  }
 ],
 "metadata": {
  "kernelspec": {
   "display_name": "Python 3",
   "name": "python3"
  }
 },
 "nbformat": 4,
 "nbformat_minor": 5
}
